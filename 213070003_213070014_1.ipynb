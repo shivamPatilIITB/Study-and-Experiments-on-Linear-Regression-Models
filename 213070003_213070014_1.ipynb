{
  "cells": [
    {
      "cell_type": "markdown",
      "source": [
        "#**EE769 Introduction to Machine Learning**\n",
        "\n",
        "#Assignment 1: Gradient Descent, Linear Regression, and Regularization\n",
        "\n",
        "\n",
        "**Template and Instructions**\n",
        "\n",
        "\n",
        "\n",
        "1. Up to two people can team up, but only one should submit, and both should understand the entire code.\n",
        "2. Every line of code should end in a comment explaining the line\n",
        "3. It is recommended to solve the assignment in Google Colab.\n",
        "Write your roll no.s separated by commas here: 213070003, 213070014\n",
        "4. Write your names here: Shivam Ashish Patil, Ram Akshayver Pal\n",
        "5. There are two parts to the assignment. In the Part 1, the code format has to be strictly followed to enable auto-grading. In the second part, you can be creative.\n",
        "6. **You can discuss with other groups or refer to the internet without being penalized, but you cannot copy their code and modify it. Write every line of code and comment on your own.**\n",
        "\n"
      ],
      "metadata": {
        "id": "Vl8EigX3osrA"
      }
    },
    {
      "cell_type": "markdown",
      "metadata": {
        "deletable": false,
        "editable": false,
        "nbgrader": {
          "cell_type": "markdown",
          "checksum": "2c8d558bf9a7a47ea4bf343fa6fe9efb",
          "grade": false,
          "grade_id": "Title",
          "locked": true,
          "schema_version": 3,
          "solution": false,
          "task": false
        },
        "id": "pyC6rfqZokyx"
      },
      "source": [
        "#**Part 1 begins ...**\n",
        "**Instructions to be strictly followed:**\n",
        "\n",
        "1. Do not add any code cells or markdown cells until the end of this part. Especially, do not change the blocks that say \"TEST CASES, DO NOT CHANGE\"\n",
        "2. In all other cells only add code where it says \"CODE HERE\".\n",
        "3. If you encounter any raise NotImplementedError() calls you may comment them out.\n",
        "\n",
        "We cannot ensure correct grading if you change anything else, and you may be penalised for not following these instructions."
      ]
    },
    {
      "cell_type": "markdown",
      "source": [
        "## Import Statements"
      ],
      "metadata": {
        "id": "Fuh-16Vfrtp7"
      }
    },
    {
      "cell_type": "code",
      "execution_count": 53,
      "metadata": {
        "deletable": false,
        "editable": false,
        "nbgrader": {
          "cell_type": "code",
          "checksum": "fe70877a859ee0a10e9d591778022f8a",
          "grade": false,
          "grade_id": "Import_Statements",
          "locked": true,
          "schema_version": 3,
          "solution": false,
          "task": false
        },
        "id": "wGY8PStloky3"
      },
      "outputs": [],
      "source": [
        "import numpy as np\n",
        "import pandas as pd\n",
        "from matplotlib import pyplot as plt"
      ]
    },
    {
      "cell_type": "markdown",
      "metadata": {
        "deletable": false,
        "editable": false,
        "nbgrader": {
          "cell_type": "markdown",
          "checksum": "e36a214573fc40f26b45e72215d61375",
          "grade": false,
          "grade_id": "Normalize_Title",
          "locked": true,
          "schema_version": 3,
          "solution": false,
          "task": false
        },
        "id": "y3pISCproky5"
      },
      "source": [
        "## Normalize function \n",
        "\n",
        "Add your code in the cell below to normalize the independent variables, making them zero mean and unit variance."
      ]
    },
    {
      "cell_type": "code",
      "execution_count": 54,
      "metadata": {
        "deletable": false,
        "nbgrader": {
          "cell_type": "code",
          "checksum": "0039f4480dfc6d62a548d976991c3a44",
          "grade": false,
          "grade_id": "Normalize_Function",
          "locked": false,
          "schema_version": 3,
          "solution": true,
          "task": false
        },
        "id": "rS3upFWtoky5"
      },
      "outputs": [],
      "source": [
        "def Normalize(X): # Output should be a normalized data matrix of the same dimension\n",
        "    '''\n",
        "    Normalize all columns of X using mean and standard deviation\n",
        "    '''\n",
        "    # YOUR CODE HERE\n",
        "    normX = []  #Initialize the matrix normX\n",
        "    if(X.ndim == 1):  # If the input is an array then normalization can be done in a single step\n",
        "      normX = (X-np.mean(X))/np.std(X) #Normalize each value of the  array\n",
        "    if(X.ndim == 2):  # If the input is a matrix\n",
        "      cols = X.shape[1];  # Find the number of columns of matrix X\n",
        "      for i in range(0,cols): # iterate through each column and normalize it\n",
        "        normX.append((X[:,i]-np.mean(X[:,i]))/np.std(X[:,i])) #Normalize each value of the  array and append to the \n",
        "    return np.transpose(normX) #return the transpose of the normalized matrix to match it with given matrix in test case\n",
        "    raise NotImplementedError()"
      ]
    },
    {
      "cell_type": "code",
      "execution_count": 55,
      "metadata": {
        "deletable": false,
        "editable": false,
        "nbgrader": {
          "cell_type": "code",
          "checksum": "7797dd606a68f028c945acd08850d108",
          "grade": true,
          "grade_id": "Normalize_Test",
          "locked": true,
          "points": 5,
          "schema_version": 3,
          "solution": false,
          "task": false
        },
        "id": "ygO-K7bzoky6"
      },
      "outputs": [],
      "source": [
        "'''\n",
        "TEST CASES, DO NOT CHANGE\n",
        "'''\n",
        "''' case 1 - 1 dimensional array'''\n",
        "#X=np.array([[1,2,3],[3,4,5],[7,8,9]])\n",
        "X1=np.array([1,2,3])\n",
        "np.testing.assert_array_almost_equal(Normalize(X1),np.array([-1.224,  0.      ,  1.224]),decimal=3)\n",
        "''' case 2 - 2 dimensional array'''\n",
        "X2=np.array([[4,7,6],[3,8,9],[5,11,10]])\n",
        "np.testing.assert_array_almost_equal(Normalize(X2),np.array([[ 0.  , -0.980581, -1.372813],[-1.224745, -0.392232,  0.392232],[ 1.224745,  1.372813,  0.980581]]))\n",
        "''' case 3 - 1 dimensional array with float'''\n",
        "X3=np.array([5.5,6.7,3.2,6.7])\n",
        "np.testing.assert_array_almost_equal(Normalize(X3),np.array([-0.017,  0.822, -1.627,  0.822]),decimal=3)"
      ]
    },
    {
      "cell_type": "markdown",
      "metadata": {
        "id": "ccow4yKXoky7"
      },
      "source": [
        "## Prediction Function\n",
        "\n",
        "Given X and w, compute the predicted output. Do not forget to add 1's in X"
      ]
    },
    {
      "cell_type": "code",
      "execution_count": 56,
      "metadata": {
        "deletable": false,
        "nbgrader": {
          "cell_type": "code",
          "checksum": "7b715eb6b4f2b77697550a46e173159a",
          "grade": false,
          "grade_id": "Prediction",
          "locked": false,
          "schema_version": 3,
          "solution": true,
          "task": false
        },
        "id": "3PRnu4F1oky7"
      },
      "outputs": [],
      "source": [
        "def Prediction (X, w): # Output should be a prediction vector y\n",
        "    '''\n",
        "    Compute Prediction given an input data matrix X and weight vector w. Output y = [X 1]w where 1 is a vector of all 1s \n",
        "    '''\n",
        "    # YOUR CODE HERE\n",
        "    X = np.c_[X,np.ones(X.shape[0])]  #Append ones to each row of X\n",
        "    pred = np.dot(X,np.transpose(w)) # To compute the prediction multiply X*transpose(w)\n",
        "    return pred #return the predicted value\n",
        "    raise NotImplementedError()"
      ]
    },
    {
      "cell_type": "code",
      "execution_count": 57,
      "metadata": {
        "deletable": false,
        "editable": false,
        "nbgrader": {
          "cell_type": "code",
          "checksum": "741f088432fb2ac3c49d3c9711d5c9c5",
          "grade": true,
          "grade_id": "PredictionTest",
          "locked": true,
          "points": 5,
          "schema_version": 3,
          "solution": false,
          "task": false
        },
        "id": "7vDdDzS4oky8"
      },
      "outputs": [],
      "source": [
        "'''\n",
        "TEST CASES, DO NOT CHANGE\n",
        "'''\n",
        "''' case 1 - Known input output matrix and weights 1'''\n",
        "X1 = np.array([[3,2],[1,1]])\n",
        "w1 = np.array([2,1,1]) \n",
        "np.testing.assert_array_equal(Prediction(X1,w1),np.array([9,4]))\n"
      ]
    },
    {
      "cell_type": "markdown",
      "metadata": {
        "deletable": false,
        "editable": false,
        "nbgrader": {
          "cell_type": "markdown",
          "checksum": "bb888c2310846a4ec20a151ff4b44291",
          "grade": false,
          "grade_id": "cell-6fda2832d5967072",
          "locked": true,
          "schema_version": 3,
          "solution": false,
          "task": false
        },
        "id": "CE6c5oM2oky9"
      },
      "source": [
        "## Loss Functions\n",
        "\n",
        "Code the four  loss functions:\n",
        "\n",
        "1. MSE loss is only for the error\n",
        "2. MAE loss is only for the error\n",
        "3. L2 loss is for MSE and L2 regularization, and can call MSE loss\n",
        "4. L1 loss is for MSE and L1 regularization, and can call MSE loss"
      ]
    },
    {
      "cell_type": "code",
      "execution_count": 58,
      "metadata": {
        "deletable": false,
        "nbgrader": {
          "cell_type": "code",
          "checksum": "834438a2ea2e2b52359b9620e36d82b2",
          "grade": false,
          "grade_id": "MSE_Loss",
          "locked": false,
          "schema_version": 3,
          "solution": true,
          "task": false
        },
        "id": "Vx4oUdwRoky-"
      },
      "outputs": [],
      "source": [
        "def MSE_Loss (X, t, w, lamda =0): # Ouput should be a single number\n",
        "    '''\n",
        "    lamda=0 is a default argument to prevent errors if you pass lamda to a function that doesn't need it by mistake. \n",
        "    This allows us to call all loss functions with the same input format.\n",
        "    \n",
        "    You are encouraged read about default arguments by yourself online if you're not familiar.\n",
        "    '''\n",
        "    # YOUR CODE HERE\n",
        "    pred = Prediction(X,w); # Using the Prediction() function defined above find the prediction for given X\n",
        "    MSEerror = np.sum(np.square(pred-t))/len(t);  # Find the mean square error for each element of predicted array pred and take the mean square error \n",
        "    return MSEerror # Return the MSE error \n",
        "    raise NotImplementedError()"
      ]
    },
    {
      "cell_type": "code",
      "execution_count": 59,
      "metadata": {
        "deletable": false,
        "editable": false,
        "nbgrader": {
          "cell_type": "code",
          "checksum": "923a1372a401b41d6ef6b0749a49ff66",
          "grade": true,
          "grade_id": "MSE_Loss_Test",
          "locked": true,
          "points": 2,
          "schema_version": 3,
          "solution": false,
          "task": false
        },
        "id": "beahjBNooky-"
      },
      "outputs": [],
      "source": [
        "'''\n",
        "TEST CASES, DO NOT CHANGE\n",
        "'''\n",
        "''' case 1 '''\n",
        "X=np.array([[3,6,5],[4.5,6.6,6]])\n",
        "t=np.array([4,5.5])\n",
        "w=np.array([2,-1,0.5,1])\n",
        "np.testing.assert_almost_equal(MSE_Loss(X,t,w),0.53,decimal=3)\n"
      ]
    },
    {
      "cell_type": "code",
      "execution_count": 60,
      "metadata": {
        "deletable": false,
        "nbgrader": {
          "cell_type": "code",
          "checksum": "a6bc90c02aba76b8ca4072b0b5655560",
          "grade": false,
          "grade_id": "MAE_Loss",
          "locked": false,
          "schema_version": 3,
          "solution": true,
          "task": false
        },
        "id": "d6Pbd2AToky_"
      },
      "outputs": [],
      "source": [
        "def MAE_Loss (X, t, w, lamda = 0): # Output should be a single number\n",
        "    # YOUR CODE HERE\n",
        "    pred = Prediction(X,w)  # Using the Prediction() function defined above find the prediction for given input X\n",
        "    MAE_error = np.sum(abs(pred-t))/len(t)  #Find the absolute difference between predicted and true values then take their squares and divide by length of array t to get mean absolute error \n",
        "    return MAE_error #Return the error value\n",
        "    raise NotImplementedError()"
      ]
    },
    {
      "cell_type": "code",
      "execution_count": 61,
      "metadata": {
        "deletable": false,
        "editable": false,
        "nbgrader": {
          "cell_type": "code",
          "checksum": "f11d5fde7220893a9809f2954d18c5e5",
          "grade": true,
          "grade_id": "MAE_Loss_Test",
          "locked": true,
          "points": 2,
          "schema_version": 3,
          "solution": false,
          "task": false
        },
        "id": "3IRXwTLwoky_"
      },
      "outputs": [],
      "source": [
        "'''\n",
        "TEST CASES, DO NOT CHANGE\n",
        "'''\n",
        "''' case 1 '''\n",
        "X=np.array([[3,6,5],[4.5,6.6,6]])\n",
        "t=np.array([4,5.5])\n",
        "w=np.array([2,-1,0.5,1])\n",
        "np.testing.assert_almost_equal(MAE_Loss(X,t,w),0.700,decimal=3)\n"
      ]
    },
    {
      "cell_type": "code",
      "execution_count": 62,
      "metadata": {
        "deletable": false,
        "nbgrader": {
          "cell_type": "code",
          "checksum": "8cbed9318984e9fb83254ad57d06436e",
          "grade": false,
          "grade_id": "L2_Loss",
          "locked": false,
          "schema_version": 3,
          "solution": true,
          "task": false
        },
        "id": "GJcMY6bPokzA"
      },
      "outputs": [],
      "source": [
        "def L2_Loss (X, t, w, lamda): # Output should be a single number\n",
        "    ''' Need to specify what inputs are'''\n",
        "    # YOUR CODE HERE\n",
        "    pred = Prediction(X,w)  # Using the Prediction() function defined above find the prediction for given input X\n",
        "    L2_error = np.sum(np.square(pred-t))/len(t) + np.sqrt(np.sum(np.square(w[:-1])))*lamda\n",
        "    #First find squared error between prediction and actual value then sum all elements in the resultant array\n",
        "    #Add the L2 norm of weight array w exclude the last 1 in w\n",
        "    return L2_error # Return L2 error\n",
        "    raise NotImplementedError()"
      ]
    },
    {
      "cell_type": "code",
      "execution_count": 63,
      "metadata": {
        "deletable": false,
        "editable": false,
        "nbgrader": {
          "cell_type": "code",
          "checksum": "a5a409056f6797cdf8cbfab61b138c37",
          "grade": true,
          "grade_id": "L2_Loss_Test",
          "locked": true,
          "points": 2,
          "schema_version": 3,
          "solution": false,
          "task": false
        },
        "id": "DQJBvFVnokzA"
      },
      "outputs": [],
      "source": [
        "'''\n",
        "TEST CASES, DO NOT CHANGE\n",
        "'''\n",
        "''' case 1 '''\n",
        "X=np.array([[3,6,5],[4.5,6.6,6]])\n",
        "t=np.array([4,5.5])\n",
        "w=np.array([2,-1,0.5,1])\n",
        "np.testing.assert_almost_equal(L2_Loss(X,t,w,0.5),1.675,decimal=3)\n"
      ]
    },
    {
      "cell_type": "code",
      "execution_count": 64,
      "metadata": {
        "deletable": false,
        "nbgrader": {
          "cell_type": "code",
          "checksum": "bb055d3436a79fb3acb7535956f57466",
          "grade": false,
          "grade_id": "L1_Loss",
          "locked": false,
          "schema_version": 3,
          "solution": true,
          "task": false
        },
        "id": "1YwydMcAokzA"
      },
      "outputs": [],
      "source": [
        "def L1_Loss (X, t, w, lamda): # Output should be a single number\n",
        "    # YOUR CODE HERE\n",
        "    pred = Prediction(X,w)  # Using the Prediction() function defined above find the prediction for given input X\n",
        "    L1_error = np.sum(np.square(pred-t))/len(t) + np.sum(np.abs(w[:-1]))*lamda\n",
        "    #First find squared error between prediction and actual value then sum all elements in the resultant array\n",
        "    #Add the L1 norm of weight array w exclude the last 1 in w    \n",
        "    return L1_error\n",
        "    raise NotImplementedError()"
      ]
    },
    {
      "cell_type": "code",
      "execution_count": 65,
      "metadata": {
        "deletable": false,
        "editable": false,
        "nbgrader": {
          "cell_type": "code",
          "checksum": "40224dd69dd8e6499a67271c33701bf4",
          "grade": true,
          "grade_id": "L1_Loss_Test",
          "locked": true,
          "points": 2,
          "schema_version": 3,
          "solution": false,
          "task": false
        },
        "id": "IYLTEnR5okzB"
      },
      "outputs": [],
      "source": [
        "'''\n",
        "TEST CASES, DO NOT CHANGE\n",
        "'''\n",
        "''' case 1 '''\n",
        "X=np.array([[3,6,5],[4.5,6.6,6]])\n",
        "t=np.array([4,5.5])\n",
        "w=np.array([2,-1,0.5,1])\n",
        "np.testing.assert_almost_equal(L1_Loss(X,t,w,0.5),2.280,decimal=3)\n"
      ]
    },
    {
      "cell_type": "code",
      "execution_count": 66,
      "metadata": {
        "deletable": false,
        "nbgrader": {
          "cell_type": "code",
          "checksum": "b6143269d14fa4e9b9a54a90f229620c",
          "grade": false,
          "grade_id": "NRMSE_Loss",
          "locked": false,
          "schema_version": 3,
          "solution": true,
          "task": false
        },
        "id": "GgsKvizNokzB"
      },
      "outputs": [],
      "source": [
        "def NRMSE_Loss (X, t, w): # Output should be a single number\n",
        "    # YOUR CODE HERE\n",
        "    pred = Prediction(X,w)  # Using the Prediction() function defined above find the prediction for given input X\n",
        "    RMSE = np.sqrt(np.sum(np.square(pred-t))/len(t))  \n",
        "    # RMSE is the root mean square error of predicted-actual value\n",
        "    NRMSE = RMSE/np.std(t)  #We divide the RMSE by std. deviation of actual values to obtain normalized RMSE\n",
        "    return NRMSE  #Return the NRMSE\n",
        "    raise NotImplementedError()"
      ]
    },
    {
      "cell_type": "code",
      "execution_count": 67,
      "metadata": {
        "deletable": false,
        "editable": false,
        "nbgrader": {
          "cell_type": "code",
          "checksum": "06456562aa2ed36b11c7d40c52610133",
          "grade": true,
          "grade_id": "NRMSE_Loss_Test",
          "locked": true,
          "points": 2,
          "schema_version": 3,
          "solution": false,
          "task": false
        },
        "id": "A15tcCFqokzB"
      },
      "outputs": [],
      "source": [
        "'''\n",
        "TEST CASES, DO NOT CHANGE\n",
        "'''\n",
        "''' Test case 1 '''\n",
        "X=np.array([[3,6,5],[4.5,6.6,6]])\n",
        "t=np.array([4,5.5])\n",
        "w=np.array([2,-1,0.5,1])\n",
        "np.testing.assert_almost_equal(NRMSE_Loss(X,t,w),0.970,decimal=3)\n"
      ]
    },
    {
      "cell_type": "markdown",
      "metadata": {
        "deletable": false,
        "editable": false,
        "nbgrader": {
          "cell_type": "markdown",
          "checksum": "32344ab855de7c731a225d416924e47d",
          "grade": false,
          "grade_id": "Gradient_Title",
          "locked": true,
          "schema_version": 3,
          "solution": false,
          "task": false
        },
        "id": "zAJLKJNNokzC"
      },
      "source": [
        "## Gradient function\n",
        "Each Loss function will have its own gradient function:\n",
        "\n",
        "1. MSE gradient is only for the error\n",
        "2. MAE gradient is only for the error\n",
        "3. L2 gradient is for MSE and L2 regularization, and can call MSE gradient\n",
        "4. L1 gradient is for MSE and L1 regularization, and can call MSE gradient"
      ]
    },
    {
      "cell_type": "code",
      "execution_count": 68,
      "metadata": {
        "deletable": false,
        "nbgrader": {
          "cell_type": "code",
          "checksum": "c1c5a97c25a41dac499e5c245f9166b7",
          "grade": false,
          "grade_id": "MSE_Gradient",
          "locked": false,
          "schema_version": 3,
          "solution": true,
          "task": false
        },
        "id": "BZpqHWhBokzC"
      },
      "outputs": [],
      "source": [
        "def MSE_Gradient (X, t, w, lamda=0):\n",
        "    # YOUR CODE HERE\n",
        "    pred = Prediction(X,w)  # Using the Prediction() function defined above find the prediction for given input X\n",
        "    error = pred-t  # Error = predicted output-actual output\n",
        "    X = np.c_[X,np.ones(X.shape[0])]  #Append ones to each row of X\n",
        "    gradient = (2/len(t))*np.dot(np.transpose(X),error) #Find the gradient as derivative of MSE_Loss function \n",
        "    return gradient #return gradient\n",
        "    raise NotImplementedError()"
      ]
    },
    {
      "cell_type": "code",
      "execution_count": 69,
      "metadata": {
        "deletable": false,
        "editable": false,
        "nbgrader": {
          "cell_type": "code",
          "checksum": "d61466927592a8776a8bfa688472bad4",
          "grade": true,
          "grade_id": "MSE_Gradient_Test",
          "locked": true,
          "points": 3,
          "schema_version": 3,
          "solution": false,
          "task": false
        },
        "id": "eLjolBskokzC"
      },
      "outputs": [],
      "source": [
        "'''\n",
        "TEST CASES, DO NOT CHANGE\n",
        "'''\n",
        "''' case 1 '''\n",
        "X=np.array([[3,6,5],[4.5,6.6,6]])\n",
        "t=np.array([4,5.5])\n",
        "w=np.array([2,-1,0.5,1])\n",
        "np.testing.assert_array_almost_equal(MSE_Gradient(X,t,w),np.array([2.55, 2.94, 2.9 , 0.4 ]),decimal=3)\n"
      ]
    },
    {
      "cell_type": "code",
      "execution_count": 70,
      "metadata": {
        "deletable": false,
        "nbgrader": {
          "cell_type": "code",
          "checksum": "3d7fb24daaa75279588b80e4a10cc8c6",
          "grade": false,
          "grade_id": "MAE_Gradient",
          "locked": false,
          "schema_version": 3,
          "solution": true,
          "task": false
        },
        "id": "YFF1-wxfokzD"
      },
      "outputs": [],
      "source": [
        "def MAE_Gradient (X, t, w, lamda=0): # Output should have the same size as w\n",
        "    # YOUR CODE HERE\n",
        "    pred = Prediction(X,w)  # Using the Prediction() function defined above find the prediction for given input X\n",
        "    X = np.c_[X,np.ones(X.shape[0])]  #Append ones to each row of X\n",
        "    gradient = (1/len(t))*np.dot(np.transpose(X),np.divide(pred-t,np.abs(pred-t))) #This formula can be obtained if we apply partial derivative to MAE_Error function\n",
        "    return gradient #return the calculated gradient\n",
        "    raise NotImplementedError()"
      ]
    },
    {
      "cell_type": "code",
      "execution_count": 71,
      "metadata": {
        "deletable": false,
        "editable": false,
        "nbgrader": {
          "cell_type": "code",
          "checksum": "e1d418bf5351112ae8716877f8bb6359",
          "grade": true,
          "grade_id": "MAE_Gradient_Test",
          "locked": true,
          "points": 3,
          "schema_version": 3,
          "solution": false,
          "task": false
        },
        "id": "1bBoPfiMokzD"
      },
      "outputs": [],
      "source": [
        "'''\n",
        "TEST CASES, DO NOT CHANGE\n",
        "'''\n",
        "''' case 1 '''\n",
        "X=np.array([[3,6,5],[4.5,6.6,6]])\n",
        "t=np.array([4,5.5])\n",
        "w=np.array([2,-1,0.5,1])\n",
        "np.testing.assert_array_almost_equal(MAE_Gradient(X,t,w),np.array([0.75,  0.3 ,  0.5 , 0.]),decimal=3)\n"
      ]
    },
    {
      "cell_type": "code",
      "execution_count": 72,
      "metadata": {
        "deletable": false,
        "nbgrader": {
          "cell_type": "code",
          "checksum": "bee96dccc2e2096ed187b41cb4e81f4e",
          "grade": false,
          "grade_id": "L2_Gradient",
          "locked": false,
          "schema_version": 3,
          "solution": true,
          "task": false
        },
        "id": "qmlR91dzokzD"
      },
      "outputs": [],
      "source": [
        "def L2_Gradient (X, t, w, lamda): # Output should have the same size as w\n",
        "    # YOUR CODE HERE\n",
        "    pred = Prediction(X,w)  # Using the Prediction() function defined above find the prediction for given input X\n",
        "    X = np.c_[X,np.ones(X.shape[0])]  #Append ones to each row of X\n",
        "    w[len(w)-1] = 0 #Make the last element i.e. 1 equal to 0 as it is not used in gradient calculation\n",
        "    gradient = (2/len(t))*np.dot(np.transpose(X),pred-t) + lamda*w/np.sqrt(np.sum(np.square(w[:-1]))) #Compute the gradient, this result is obtained by differentiation of L2_loss function\n",
        "    return gradient #Return radient function\n",
        "    raise NotImplementedError()"
      ]
    },
    {
      "cell_type": "code",
      "execution_count": 73,
      "metadata": {
        "deletable": false,
        "editable": false,
        "nbgrader": {
          "cell_type": "code",
          "checksum": "f292b42c3389b24e369234a7210b87bb",
          "grade": true,
          "grade_id": "L2_Gradient_Test",
          "locked": true,
          "points": 3,
          "schema_version": 3,
          "solution": false,
          "task": false
        },
        "id": "6lxwah-zokzD"
      },
      "outputs": [],
      "source": [
        "'''\n",
        "TEST CASES, DO NOT CHANGE\n",
        "'''\n",
        "''' case 1 '''\n",
        "X=np.array([[3,6,5],[4.5,6.6,6]])\n",
        "t=np.array([4,5.5])\n",
        "w=np.array([2,-1,0.5,1])\n",
        "np.testing.assert_array_almost_equal(L2_Gradient(X,t,w,0.5),np.array([2.986, 2.721, 3.009 , 0.4 ]),decimal=3)\n"
      ]
    },
    {
      "cell_type": "code",
      "execution_count": 74,
      "metadata": {
        "deletable": false,
        "nbgrader": {
          "cell_type": "code",
          "checksum": "5bff06a852c13effc51014992ffce310",
          "grade": false,
          "grade_id": "L1_Gradient",
          "locked": false,
          "schema_version": 3,
          "solution": true,
          "task": false
        },
        "id": "a6P-GUZ0okzE"
      },
      "outputs": [],
      "source": [
        "def L1_Gradient (X, t, w, lamda): # Output should have the same size as w\n",
        "    # YOUR CODE HERE\n",
        "    pred = Prediction(X,w)  # Using the Prediction() function defined above find the prediction for given input X\n",
        "    X = np.c_[X,np.ones(X.shape[0])]  #Append ones to each row of X\n",
        "    #w[len(w)-1] = 0 #Make the last element i.e. 1 equal to 0 as it is not used in gradient calculation\n",
        "    gradient = (2/len(t))*np.dot(np.transpose(X),pred-t) + lamda*np.divide(w,np.abs(w)) #This formula for gradient can be obtained by differentiating L1_Gradient\n",
        "    dotProd = (2/len(t))*np.dot(np.transpose(X),pred-t) #matrix multiplication of transpose(X)*(pred-t) useful for further calculations\n",
        "    gradient[len(w)-1] = dotProd[len(w)-1]  # Last element of gradient vector should not include the w array's contribuation\n",
        "    return gradient #Return the gradient\n",
        "    raise NotImplementedError()"
      ]
    },
    {
      "cell_type": "code",
      "execution_count": 75,
      "metadata": {
        "deletable": false,
        "editable": false,
        "nbgrader": {
          "cell_type": "code",
          "checksum": "9097b61320e470f429a9f46c7da0b219",
          "grade": true,
          "grade_id": "L1_Gradient_Test",
          "locked": true,
          "points": 3,
          "schema_version": 3,
          "solution": false,
          "task": false
        },
        "id": "dITScW5pokzE"
      },
      "outputs": [],
      "source": [
        "'''\n",
        "TEST CASES, DO NOT CHANGE\n",
        "'''\n",
        "''' case 1 '''\n",
        "X=np.array([[3,6,5],[4.5,6.6,6]])\n",
        "t=np.array([4,5.5])\n",
        "w=np.array([2,-1,0.5,1])\n",
        "np.testing.assert_array_almost_equal(L1_Gradient(X,t,w,0.5),np.array([3.05, 2.44, 3.4 , 0.4 ]),decimal=3)\n"
      ]
    },
    {
      "cell_type": "markdown",
      "metadata": {
        "deletable": false,
        "editable": false,
        "nbgrader": {
          "cell_type": "markdown",
          "checksum": "1980a2f831b5e1ddc9b510c22ef502c7",
          "grade": false,
          "grade_id": "Gradient_Desc_Title",
          "locked": true,
          "schema_version": 3,
          "solution": false,
          "task": false
        },
        "id": "4ZsJWrKWokzE"
      },
      "source": [
        "## Gradient Descent Function\n"
      ]
    },
    {
      "cell_type": "code",
      "execution_count": 76,
      "metadata": {
        "deletable": false,
        "nbgrader": {
          "cell_type": "code",
          "checksum": "78cdd5ffa4590c10e19281722ccd537f",
          "grade": false,
          "grade_id": "Gradient_Descent",
          "locked": false,
          "schema_version": 3,
          "solution": true,
          "task": false
        },
        "id": "WRE6NRLt8u8r"
      },
      "outputs": [],
      "source": [
        "def Gradient_Descent (X, X_val, t, t_val, w, lamda, max_iter, epsilon, lr, lossfunc, gradfunc): # See output format in 'return' statement\n",
        "    # YOUR CODE HERE\n",
        "    loss = np.zeros(max_iter)  # Define an array for storing L2 loss for each updated w vector in below for loop\n",
        "    for i in range(max_iter):  # For loop to iterate through the maximum no of iterations for gradient descent\n",
        "      grad = gradfunc(X, t, w, lamda)  #Find the gradient vector for each iteration\n",
        "      temp_w = w -  lr*grad  #All elements of w are updated in each iteration\n",
        "      loss[i] =  lossfunc(X, t, w, lamda) #L2_Loss function for w in current iteration\n",
        "      if (i>0 and abs(loss[i]-loss[i-1])<epsilon): #Stop gradient descent when maxiterations are over or when consecutive losses are less than epsilon\n",
        "        break;\n",
        "      w = temp_w #Update w vector\n",
        "    w_final = w  \n",
        "    train_loss_final = lossfunc(X, t, w_final, lamda)  #find training MSE using given loss function\n",
        "    validation_loss_final = lossfunc(X_val,t_val,w_final,lamda) #find validation MSE using given loss function\n",
        "    validation_NRMSE = np.sqrt(validation_loss_final)/np.std(t_val) # Validation NRMSE = RMSE/(std deviation)\n",
        "    return w_final, train_loss_final, validation_loss_final, validation_NRMSE #You should return variables structured like this.\n",
        "    raise NotImplementedError()"
      ]
    },
    {
      "cell_type": "code",
      "execution_count": 77,
      "metadata": {
        "deletable": false,
        "editable": false,
        "nbgrader": {
          "cell_type": "code",
          "checksum": "15a67336bed20a51f33820bf615186e8",
          "grade": true,
          "grade_id": "Gradient_Check",
          "locked": true,
          "points": 20,
          "schema_version": 3,
          "solution": false,
          "task": false
        },
        "id": "wFgUYUjX8u8s"
      },
      "outputs": [],
      "source": [
        "'''\n",
        "TEST CASES, DO NOT CHANGE\n",
        "'''\n",
        "X=np.array([[23,24],[1,2]])\n",
        "t=np.array([4,5])\n",
        "X_val=np.array([[3,4],[5,6]])\n",
        "t_val=np.array([3,4])\n",
        "w=np.array([3,2,1])\n",
        "results =Gradient_Descent (X, X_val, t, t_val, w, 0.1, 100, 1e-10, 1e-5, L2_Loss,L2_Gradient) \n",
        "np.testing.assert_allclose([results[1]],[697.919],rtol =0.05)\n",
        "np.testing.assert_allclose([results[2]],[20],atol=5) # we expect around 17.5  but some students got 24 which we will also accept\n",
        "#Instructor Values of results[1] and results [2] are 697.919 and 17.512 respectively"
      ]
    },
    {
      "cell_type": "markdown",
      "metadata": {
        "deletable": false,
        "editable": false,
        "nbgrader": {
          "cell_type": "markdown",
          "checksum": "454ff10ef4f228e28cf5dc32b02a46b0",
          "grade": false,
          "grade_id": "PseudoInvTitle",
          "locked": true,
          "schema_version": 3,
          "solution": false,
          "task": false
        },
        "id": "M75l_wFCokzF"
      },
      "source": [
        "## Pseudo Inverse Method\n",
        "\n",
        "You have to implement a slightly more advanced version, with L2 penalty:\n",
        "\n",
        "w = (X' X + lambda I)^(-1) X' t.\n",
        "\n",
        "See, for example: Section 2 of https://web.mit.edu/zoya/www/linearRegression.pdf"
      ]
    },
    {
      "cell_type": "code",
      "execution_count": 78,
      "metadata": {
        "deletable": false,
        "nbgrader": {
          "cell_type": "code",
          "checksum": "cb4fed33ae855881d92f2d0bee916fd7",
          "grade": false,
          "grade_id": "PseudoInv",
          "locked": false,
          "schema_version": 3,
          "solution": true,
          "task": false
        },
        "id": "7ZAU-Td1okzF"
      },
      "outputs": [],
      "source": [
        "def Pseudo_Inverse (X, t, lamda): # Output should be weight vector\n",
        "    # YOUR CODE HERE\n",
        "    X = np.c_[X,np.ones(X.shape[0])]  #Append ones to each row of X\n",
        "    w = np.dot(np.linalg.inv(np.dot(np.transpose(X),X) + lamda*np.identity(X.shape[1])),np.dot(np.transpose(X),t)) \n",
        "    return w  #return the parameter array\n",
        "    raise NotImplementedError()"
      ]
    },
    {
      "cell_type": "code",
      "execution_count": 79,
      "metadata": {
        "deletable": false,
        "editable": false,
        "nbgrader": {
          "cell_type": "code",
          "checksum": "a5178b8280650ed5d1d55dc6bbb38a29",
          "grade": true,
          "grade_id": "PseudoInvTest",
          "locked": true,
          "points": 10,
          "schema_version": 3,
          "solution": false,
          "task": false
        },
        "id": "50jkxZybokzF"
      },
      "outputs": [],
      "source": [
        "'''\n",
        "TEST CASES, DO NOT CHANGE\n",
        "'''\n",
        "''' case 1 - other data'''\n",
        "X=np.array([[3,6,5],[4.5,6.6,6]])\n",
        "t=np.array([4,5.5])\n",
        "np.testing.assert_array_almost_equal(Pseudo_Inverse(X,t,0.5),np.array([ 0.491,  0.183,  0.319, -0.002]),decimal=3)"
      ]
    },
    {
      "cell_type": "markdown",
      "source": [
        "#Save the code above this as a RollNo1_RollNo2_1.py file after running the test blocks to make sure there are no errors."
      ],
      "metadata": {
        "id": "vwFm7JnBXDff"
      }
    },
    {
      "cell_type": "markdown",
      "source": [
        "#**... Part 1 ends**\n",
        "Below this you be more creative. Just comment out the lines where you save files (e.g. test predictions)."
      ],
      "metadata": {
        "id": "AboSSuSpw3RB"
      }
    },
    {
      "cell_type": "markdown",
      "source": [
        "#**Part 2 begins ...**\n",
        "\n",
        "**Instructions to be loosely followed (except number 8):**\n",
        "\n",
        "1. Add more code and text cells between this and the last cell.\n",
        "2. Read training data from: https://www.ee.iitb.ac.in/~asethi/Dump/TempTrain.csv only. Do not use a local copy of the dataset.\n",
        "3. Find the best lamda for **MSE+lamda*L2(w)** loss function. Plot training and validation RMSE vs. 1/lamda (1/lamda represents model complexity). Print weights, validation RMSE, validation NMSE for the best lamda.\n",
        "4. Find the best lamda for **MSE+lamda*L1(w)** loss function. Plot training and validation RMSE vs. 1/lamda (1/lamda represents model complexity). Print weights, validation RMSE, validation NMSE for the best lamda.\n",
        "5. Find the best lamda for the **pseudo-inv method**. Plot training and validation RMSE vs. 1/lamda (1/lamda represents model complexity). Print weights, validation RMSE, validation NMSE for the best lamda.\n",
        "6. Write your observations and conclusions.\n",
        "7. Read test data from: https://www.ee.iitb.ac.in/~asethi/Dump/TempTest.csv only. Do not use a local copy of the dataset. Predict its dependent (missing last column) using the model with the lowest MSE, RMSE, or NMSE. Save it as a file RollNo1_RollNo2_1.csv.\n",
        "8. **Disable the prediction csv file saving statement and submit this entire .ipynb file (part 1 and part 2), .py file (part 1 only), and .csv file as a single RollNo1_RollNo2_1.zip file.**\n"
      ],
      "metadata": {
        "id": "wNxr2zopT59T"
      }
    },
    {
      "cell_type": "code",
      "source": [
        "data = pd.read_csv('https://www.ee.iitb.ac.in/~asethi/Dump/TempTrain.csv')"
      ],
      "metadata": {
        "id": "XV7L2S7nqU0i"
      },
      "execution_count": 80,
      "outputs": []
    },
    {
      "cell_type": "code",
      "source": [
        "#Separate input matrix and output matrix\n",
        "#Referred from: https://www.askpython.com/python/examples/split-data-training-and-testing-set\n",
        "t = data.Next_Tmax #here we define the output variable\n",
        "# To separate input from output we need to drop the output column from the dataframe to create an input vector\n",
        "x = data.drop('Next_Tmax', axis = 1)"
      ],
      "metadata": {
        "id": "QuiuW7Dx-vO5"
      },
      "execution_count": 81,
      "outputs": []
    },
    {
      "cell_type": "code",
      "source": [
        "#Normalize the input data frame\n",
        "inputTrainingMean = x.mean() #mean and std. deviation of training data \n",
        "inputTrainingSd = x.std() #Standard deviation of training data \n",
        "x = (x - x.mean())/x.std() #Normalize all features in x to make them 0 mean and std dev = 1\n",
        "targetTrainingMean = t.mean() #Mean of training target data\n",
        "targetTrainingSd = t.std()  #Std deviation of training target data\n",
        "t = (t-t.mean())/t.std()  # normalize the target variable"
      ],
      "metadata": {
        "id": "BKk9DFeb-8PM"
      },
      "execution_count": 82,
      "outputs": []
    },
    {
      "cell_type": "code",
      "source": [
        "#Separate the input vector x into training and validation data in 80:20 ratio\n",
        "x_len = x.shape[0]  #number of rows in matrix x\n",
        "x_width = x.shape[1]  #number of columns in matrix x\n",
        "x_train = x.head(round(0.8*x_len))  #take first 80% (=4866) rows of x matrix as training data\n",
        "x_val = x.tail(x_len - round(0.8*x_len))  #take last 20% (=1216) rows of x matrix as validation data\n",
        "\n",
        "#Separate the target vector y into training and validation data in 80:20 ratio\n",
        "t_len = t.shape[0]  #number of rows in matrix y\n",
        "t_width = 1   #number of columns in matrix y\n",
        "t_train = t.head(round(0.8*t_len))  #take first 80% (=4866) rows of y matrix as training data\n",
        "t_val = t.tail(t_len - round(0.8*t_len))  #take last 20% (=1216) rows of y matrix as validation data"
      ],
      "metadata": {
        "id": "7AkYcG15b1Ui"
      },
      "execution_count": 83,
      "outputs": []
    },
    {
      "cell_type": "markdown",
      "source": [
        "**Part 2 Question 3 begins : MSE+lamda*L2(w)**"
      ],
      "metadata": {
        "id": "mOphxfCTkosF"
      }
    },
    {
      "cell_type": "code",
      "source": [
        "'''\n",
        "Initialization of different arrays and variables for TASK 3,4 and 5\n",
        "'''\n",
        "lamda = 10 #Assume initial lamda parameter\n",
        "maxiter = 200 # maximum number of iterations for gradient descent\n",
        "numLamdaVals = 6  #define the number of lamda values you are going to test\n",
        "lamdaArray = np.zeros(numLamdaVals)  #An array to store the different lamda values\n",
        "trainingRMSE = np.zeros(numLamdaVals)  #size of training MSE array = number of lamda values\n",
        "validationRMSE = np.zeros(numLamdaVals)  #An array to store validation MSE\n",
        "L = 0.1  #Assume learning rate "
      ],
      "metadata": {
        "id": "7qzyTvGd6RgO"
      },
      "execution_count": 84,
      "outputs": []
    },
    {
      "cell_type": "code",
      "source": [
        "'''\n",
        "Training the model using gradient descent for each lamda\n",
        "'''\n",
        "\n",
        "for lCount in range(0,numLamdaVals):  #This for loop is to train model for each lamda value\n",
        "  w = np.ones(x_train.shape[1]+1) #Weights vector has one dimension more than the number of features in x matrix\n",
        "  L2_loss = np.zeros(maxiter)  # Define an array for storing L2 loss for each updated w vector in below for loop\n",
        "  lamdaArray[lCount] = lamda  #lamda array stores the lamda value\n",
        "  for i in range(maxiter):  # For loop to iterate through the maximum no of iterations for gradient descent\n",
        "    grad = L2_Gradient(x_train, t_train, w, lamda)  #Find the gradient vector for each iteration\n",
        "    temp_w = w -  L*grad  #All elements of w are updated in each iteration\n",
        "    w = temp_w #store the updated w\n",
        "    L2_loss[i] =  L2_Loss(x_train, t_train, w, lamda) #L2_Loss function for w in current iteration\n",
        "  trainingRMSE[lCount] = np.sqrt(MSE_Loss(x_train, t_train, w, lamda))  #for each lamda find training MSE\n",
        "  validationRMSE[lCount] = np.sqrt(MSE_Loss(x_val,t_val,w,lamda)) #for each lamda find validation MSE\n",
        "  lamda = lamda/10  # Update lamda by dividing it by a factor of 10"
      ],
      "metadata": {
        "id": "oz3QXw-g6hB1"
      },
      "execution_count": 85,
      "outputs": []
    },
    {
      "cell_type": "code",
      "source": [
        "'''\n",
        "Finding minimum training RMSE and corresponding index in trainingRMSE array\n",
        "'''\n",
        "minTrainRMSE = min(trainingRMSE)  #Find out the minimum training MSE\n",
        "print('Min. Training RMSE =',minTrainRMSE)  #Print the minimum training MSE\n",
        "for i in range(0,numLamdaVals): #This for loop finds the array index corresponding to minimum Training MSE\n",
        "  if(trainingRMSE[i] == minTrainRMSE):  \n",
        "    minTrainMSEindex = i    \n",
        "    break"
      ],
      "metadata": {
        "colab": {
          "base_uri": "https://localhost:8080/"
        },
        "id": "7PoKsj8i69-l",
        "outputId": "e1e44bc8-54df-4543-c5ce-04532b70bf60"
      },
      "execution_count": 86,
      "outputs": [
        {
          "output_type": "stream",
          "name": "stdout",
          "text": [
            "Min. Training RMSE = 0.45241765488595315\n"
          ]
        }
      ]
    },
    {
      "cell_type": "code",
      "source": [
        "'''\n",
        "Plotting Training RMSE vs 1/lamda\n",
        "''' \n",
        "print('Training RMSE:',trainingRMSE)\n",
        "print('1/lamda Array: ',1./lamdaArray)\n",
        "plt.figure()\n",
        "plt.title('Training RMSE Vs log10(1/lamda plot)')\n",
        "plt.xlabel('log10(1/lamda)')\n",
        "plt.ylabel('Training RMSE')\n",
        "plt.plot(np.log10(1./lamdaArray),trainingRMSE,color='green', linestyle='-', linewidth = 3,marker='o', markerfacecolor='blue', markersize=6)\n",
        "#Since consecutive lamda values vary by large gaps we have plotted them on log scale on x axis\n",
        "plt.show()"
      ],
      "metadata": {
        "colab": {
          "base_uri": "https://localhost:8080/",
          "height": 330
        },
        "id": "TOzVCMrt7MlF",
        "outputId": "6cca40b8-58be-40c3-8505-318f71054bcc"
      },
      "execution_count": 87,
      "outputs": [
        {
          "output_type": "stream",
          "name": "stdout",
          "text": [
            "Training RMSE: [2.26661241 0.58261445 0.46080682 0.45259575 0.45242167 0.45241765]\n",
            "1/lamda Array:  [1.e-01 1.e+00 1.e+01 1.e+02 1.e+03 1.e+04]\n"
          ]
        },
        {
          "output_type": "display_data",
          "data": {
            "image/png": "[encoded data removed]",
            "text/plain": [
              "<Figure size 432x288 with 1 Axes>"
            ]
          },
          "metadata": {
            "needs_background": "light"
          }
        }
      ]
    },
    {
      "cell_type": "code",
      "source": [
        "'''\n",
        "Finding minimum validation MSE and corresponding index in validationMSE array\n",
        "'''\n",
        "minValidationRMSE = min(validationRMSE)   #Find out the minimum validation MSE\n",
        "for i in range(0,numLamdaVals): \n",
        "  if(validationRMSE[i] == minValidationRMSE):\n",
        "    minValidationMSEindex = i    \n",
        "    break\n",
        "optimumLamda = lamdaArray[minValidationMSEindex] #Optimum Lamda corresponds to lamda value at mimimum Validation MSE Index"
      ],
      "metadata": {
        "id": "YgcdqS4p7z01"
      },
      "execution_count": 88,
      "outputs": []
    },
    {
      "cell_type": "code",
      "source": [
        "'''\n",
        "Plotting Validation MSE vs 1/lamda\n",
        "'''\n",
        "print('Valdation RMSE:',validationRMSE)\n",
        "print('1/lamda Array: ',1./lamdaArray)\n",
        "print('Best lamda which gives min. Validation RMSE = ',optimumLamda)\n",
        "print('Validation RMSE for best lamda = ',validationRMSE[minValidationMSEindex]) # Validation MSE corresponding to best lamda\n",
        "print('Validation NRMSE for best lamda = ',validationRMSE[minValidationMSEindex]/np.std(t_val))  # Validation NMSE corresponding to best lamda\n",
        "plt.figure()\n",
        "plt.xlabel('log10(1/lamda)')\n",
        "plt.ylabel('Validation RMSE')\n",
        "#Since consecutive lamda values vary by large gaps we have plotted them on log scale on x axis\n",
        "plt.plot(np.log10(1./lamdaArray),validationRMSE,color='red', linestyle='-', linewidth = 3,marker='o', markerfacecolor='red', markersize=6)\n",
        "plt.show()"
      ],
      "metadata": {
        "colab": {
          "base_uri": "https://localhost:8080/",
          "height": 366
        },
        "id": "sQLQlxMN78j8",
        "outputId": "4233bcf8-dbfc-4727-b1cd-e79fbd8a447b"
      },
      "execution_count": 89,
      "outputs": [
        {
          "output_type": "stream",
          "name": "stdout",
          "text": [
            "Valdation RMSE: [2.59571827 0.72630327 0.46646787 0.47700122 0.47948328 0.47974907]\n",
            "1/lamda Array:  [1.e-01 1.e+00 1.e+01 1.e+02 1.e+03 1.e+04]\n",
            "Best lamda which gives min. Validation RMSE =  0.1\n",
            "Validation RMSE for best lamda =  0.4664678674231005\n",
            "Validation NRMSE for best lamda =  0.377994227709594\n"
          ]
        },
        {
          "output_type": "display_data",
          "data": {
            "image/png": "[encoded data removed]",
            "text/plain": [
              "<Figure size 432x288 with 1 Axes>"
            ]
          },
          "metadata": {
            "needs_background": "light"
          }
        }
      ]
    },
    {
      "cell_type": "code",
      "source": [
        "'''\n",
        "Using optimum lamda we will run gradient descent on training data and find the best w vector\n",
        "'''\n",
        "w = np.ones(x_train.shape[1]+1) #Weights vector has one dimension more than the number of features in x matrix\n",
        "for i in range(maxiter): #This for loop finds the array index corresponding to minimum Validation MSE\n",
        "  grad = L2_Gradient(x_train, t_train, w, optimumLamda) #\n",
        "  temp_w = w -  L*grad\n",
        "  w = temp_w  \n",
        "  L2_loss[i] =  L2_Loss(x_train, t_train, w, optimumLamda) #L2_Loss function\n",
        "print('Best weight vector for optimum lamda = ',w)\n",
        "wTest = w #This w will be used for testing the model in Question 6"
      ],
      "metadata": {
        "colab": {
          "base_uri": "https://localhost:8080/"
        },
        "id": "jiwYLPonC144",
        "outputId": "27788c38-bef4-4a4a-82ed-7de4678871da"
      },
      "execution_count": 90,
      "outputs": [
        {
          "output_type": "stream",
          "name": "stdout",
          "text": [
            "Best weight vector for optimum lamda =  [ 1.23749963e-01  4.27260595e-02  3.90310926e-02 -3.04588077e-02\n",
            "  4.40957959e-01  1.52473587e-01 -1.08650241e-01  8.37903975e-02\n",
            " -1.24124148e-01 -6.38478641e-02 -7.46160812e-02 -8.86831090e-02\n",
            " -2.70784135e-02  7.09598337e-02  1.21154155e-03  2.45364430e-04\n",
            " -1.78292387e-02 -2.45968336e-02 -5.97766455e-02  6.84466742e-02\n",
            "  4.22290140e-02 -5.05792878e-03]\n"
          ]
        }
      ]
    },
    {
      "cell_type": "markdown",
      "source": [
        "**Observations for Part 2 Question 3:**\n",
        "\n",
        "1) For** Learning Rate L = 1**:\n",
        "\n",
        "Training RMSE: [inf inf inf inf inf inf]\n",
        "\n",
        "1/lamda Array:  [1.e-01 1.e+00 1.e+01 1.e+02 1.e+03 1.e+04]\n",
        "\n",
        "Valdation RMSE: [inf inf inf inf inf inf]\n",
        "\n",
        "Clearly learning rate of 1 is not an optimum choice\n",
        "\n",
        "2)For **Learning Rate L = 0.1**:\n",
        "\n",
        "Training RMSE: [2.26661241 0.58261445 0.46080682 0.45259575 0.45242167 0.45241765]\n",
        "\n",
        "1/lamda Array: [1.e-01 1.e+00 1.e+01 1.e+02 1.e+03 1.e+04]\n",
        "\n",
        "Valdation RMSE: [2.59571827 0.72630327 0.46646787 0.47700122 0.47948328 0.47974907](Min. validation MSE occurs at: **lamda = 0.1**)\n",
        "\n",
        "3)For **Learning Rate L = 0.01**: \n",
        "\n",
        "Training RMSE: [0.88159037 0.5795732  0.46292016 0.4647183  0.46509646 0.46513624]\n",
        "\n",
        "1/lamda Array: [1.e-01 1.e+00 1.e+01 1.e+02 1.e+03 1.e+04] \n",
        "\n",
        "Valdation RMSE: [1.21536351 0.71500768 0.45982222 0.46406411 0.46480869 0.46488615] (Min. validation MSE occurs at: **lamda = 0.1**)\n",
        "\n",
        "Therefore, the minimum validation RMSE occurs at lamda = 0.1. Learning Rate of 0.1 and 0.01 have approximately same validation RMSE for lamda = 0.1. Since Learning rate of 0.1 needs lesser number of iterations to converge, learning rate of 0.1 will be optimum.\n",
        "\n"
      ],
      "metadata": {
        "id": "rzKBMM6mT4qQ"
      }
    },
    {
      "cell_type": "markdown",
      "source": [
        "**Part 2 Question 4 Starts:  MSE+lamda*L1(w)**"
      ],
      "metadata": {
        "id": "TOimIKUUZNGQ"
      }
    },
    {
      "cell_type": "code",
      "source": [
        "'''\n",
        "Initialization of different arrays and variables for TASK 3,4 and 5\n",
        "'''\n",
        "lamda = 10 #Assume initial lamda parameter\n",
        "maxiter = 200 # maximum number of iterations for gradient descent\n",
        "numLamdaVals = 6  #define the number of lamda values you are going to test\n",
        "lamdaArray = np.zeros(numLamdaVals)  #An array to store the different lamda values\n",
        "trainingRMSE = np.zeros(numLamdaVals)  #size of training MSE array = number of lamda values\n",
        "validationRMSE = np.zeros(numLamdaVals)  #An array to store validation MSE\n",
        "L = 0.1  #Assume learning rate "
      ],
      "metadata": {
        "id": "i2AaRSmmDLuL"
      },
      "execution_count": 91,
      "outputs": []
    },
    {
      "cell_type": "code",
      "source": [
        "'''\n",
        "Training the model using gradient descent for each lamda\n",
        "'''\n",
        "for lCount in range(0,numLamdaVals):  #This for loop is to train model for each lamda value\n",
        "  w = np.ones(x_train.shape[1]+1) #Weights vector has one dimension more than the number of features in x matrix\n",
        "  L1_loss = np.zeros(maxiter)  # Define an array for storing L2 loss for each updated w vector in below for loop\n",
        "  lamdaArray[lCount] = lamda  #lamda array stores the lamda value\n",
        "  for i in range(maxiter):  # For loop to iterate through the maximum no of iterations for gradient descent\n",
        "    grad = L1_Gradient(x_train, t_train, w, lamda)  #Find the gradient vector for each iteration\n",
        "    temp_w = w -  L*grad  #All elements of w are updated in each iteration\n",
        "    w= temp_w #store the updated w\n",
        "    L1_loss[i] =  L1_Loss(x_train, t_train, w, lamda) #L2_Loss function for w in current iteration\n",
        "  trainingRMSE[lCount] = np.sqrt(MSE_Loss(x_train, t_train, w, lamda))  #for each lamda find training MSE\n",
        "  validationRMSE[lCount] = np.sqrt(MSE_Loss(x_val,t_val,w,lamda)) #for each lamda find validation MSE\n",
        "  lamda = lamda/10  # Update lamda by dividing it by a factor of 10"
      ],
      "metadata": {
        "id": "L9iTsXkBYzVE"
      },
      "execution_count": 92,
      "outputs": []
    },
    {
      "cell_type": "code",
      "source": [
        "'''\n",
        "Finding minimum training RMSE and corresponding index in trainingRMSE array\n",
        "'''\n",
        "minTrainRMSE = min(trainingRMSE)  #Find out the minimum training MSE\n",
        "print('Min. Training RMSE =',minTrainRMSE)  #Print the minimum training MSE\n",
        "for i in range(0,numLamdaVals): #This for loop finds the array index corresponding to minimum Training MSE\n",
        "  if(trainingRMSE[i] == minTrainRMSE):\n",
        "    minTrainMSEindex = i    \n",
        "    break"
      ],
      "metadata": {
        "colab": {
          "base_uri": "https://localhost:8080/"
        },
        "outputId": "92a938b1-8947-49b2-b94c-4ad2da69a457",
        "id": "gnmXpPdpChAL"
      },
      "execution_count": 93,
      "outputs": [
        {
          "output_type": "stream",
          "name": "stdout",
          "text": [
            "Min. Training RMSE = 0.4518543295892992\n"
          ]
        }
      ]
    },
    {
      "cell_type": "code",
      "source": [
        "'''\n",
        "Plotting Training RMSE vs log10(1/lamda)\n",
        "''' \n",
        "print('Training RMSE:',trainingRMSE)\n",
        "print('1/lamda Array: ',1./lamdaArray)\n",
        "plt.figure()\n",
        "plt.title('Training RMSE Vs log10(1/lamda) plot')\n",
        "plt.xlabel('log10(1/lamda axis)')\n",
        "plt.ylabel('Training RMSE')\n",
        "#Since consecutive lamda values vary by large gaps we have plotted them on log scale on x axis\n",
        "plt.plot(np.log10(1./lamdaArray),trainingRMSE,color='green', linestyle='-', linewidth = 3,marker='o', markerfacecolor='blue', markersize=6)\n",
        "plt.show()"
      ],
      "metadata": {
        "colab": {
          "base_uri": "https://localhost:8080/",
          "height": 330
        },
        "outputId": "14c6d143-cb69-4071-d75f-e117705bcc9b",
        "id": "A414Bo6kCul5"
      },
      "execution_count": 94,
      "outputs": [
        {
          "output_type": "stream",
          "name": "stdout",
          "text": [
            "Training RMSE: [8.14217193 0.70561497 0.4854272  0.45295417 0.45186751 0.45185433]\n",
            "1/lamda Array:  [1.e-01 1.e+00 1.e+01 1.e+02 1.e+03 1.e+04]\n"
          ]
        },
        {
          "output_type": "display_data",
          "data": {
            "image/png": "[encoded data removed]",
            "text/plain": [
              "<Figure size 432x288 with 1 Axes>"
            ]
          },
          "metadata": {
            "needs_background": "light"
          }
        }
      ]
    },
    {
      "cell_type": "code",
      "source": [
        "'''\n",
        "Finding minimum validation MSE and corresponding index in validationMSE array\n",
        "'''\n",
        "minValidationRMSE = min(validationRMSE)   #Find out the minimum validation MSE\n",
        "for i in range(0,numLamdaVals): #Find the array index corresponding to minimum validation MSE\n",
        "  if(validationRMSE[i] == minValidationRMSE):\n",
        "    minValidationMSEindex = i    \n",
        "    break\n",
        "optimumLamda = lamdaArray[minValidationMSEindex] #Optimum Lamda corresponds to lamda value at mimimum Validation MSE Index"
      ],
      "metadata": {
        "id": "TyTzpeHxEaUI"
      },
      "execution_count": 95,
      "outputs": []
    },
    {
      "cell_type": "code",
      "source": [
        "'''\n",
        "Plotting Validation RMSE vs log10(1/lamda)\n",
        "'''\n",
        "print('Valdation RMSE:',validationRMSE)\n",
        "print('1/lamda Array: ',1./lamdaArray)\n",
        "print('Best lamda which gives min. Validation RMSE = ',optimumLamda)\n",
        "print('Validation RMSE for best lamda = ',validationRMSE[minValidationMSEindex]) # Validation MSE corresponding to best lamda\n",
        "print('Validation NRMSE for best lamda = ',validationRMSE[minValidationMSEindex]/np.std(t_val))  # Validation NMSE corresponding to best lamda\n",
        "plt.figure()\n",
        "plt.title('Validation RMSE Vs log10(1/lamda) plot')\n",
        "plt.xlabel('1/lamda axis (in log10)')\n",
        "plt.ylabel('Validation RMSE')\n",
        "#Since consecutive lamda values vary by large gaps we have plotted them on log scale on x axis\n",
        "plt.plot(np.log10(1./lamdaArray),validationRMSE,color='red', linestyle='-', linewidth = 3,marker='o', markerfacecolor='red', markersize=6)\n",
        "plt.show()"
      ],
      "metadata": {
        "colab": {
          "base_uri": "https://localhost:8080/",
          "height": 382
        },
        "outputId": "7e6ba39f-365b-4dff-9925-54babe36c235",
        "id": "vKsFR4XAEw5U"
      },
      "execution_count": 96,
      "outputs": [
        {
          "output_type": "stream",
          "name": "stdout",
          "text": [
            "Valdation RMSE: [9.40565994 0.84644062 0.5308134  0.48420429 0.48719127 0.4876578 ]\n",
            "1/lamda Array:  [1.e-01 1.e+00 1.e+01 1.e+02 1.e+03 1.e+04]\n",
            "Best lamda which gives min. Validation RMSE =  0.01\n",
            "Validation RMSE for best lamda =  0.48420429133526205\n",
            "Validation NRMSE for best lamda =  0.3923666343150988\n"
          ]
        },
        {
          "output_type": "display_data",
          "data": {
            "image/png": "[encoded data removed]",
            "text/plain": [
              "<Figure size 432x288 with 1 Axes>"
            ]
          },
          "metadata": {
            "needs_background": "light"
          }
        }
      ]
    },
    {
      "cell_type": "code",
      "source": [
        "'''\n",
        "Using optimum lamda we will run gradient descent on training data and find the best w vector\n",
        "'''\n",
        "w = np.ones(x_train.shape[1]+1) #Weights vector has one dimension more than the number of features in x matrix\n",
        "for i in range(maxiter): #This for loop finds the array index corresponding to minimum Validation MSE\n",
        "  grad = L1_Gradient(x_train, t_train, w, optimumLamda) #find the gradient for L1 gradient\n",
        "  temp_w = w -  L*grad  #Gradient descent\n",
        "  w = temp_w\n",
        "  L2_loss[i] =  L2_Loss(x_train, t_train, w, optimumLamda) #L2_Loss function\n",
        "\n",
        "print('Best weight vector for optimum lamda = ',w)"
      ],
      "metadata": {
        "colab": {
          "base_uri": "https://localhost:8080/"
        },
        "outputId": "82782a8e-f828-4f6b-c927-60e59ec8e985",
        "id": "nVVKhSLUE85N"
      },
      "execution_count": 97,
      "outputs": [
        {
          "output_type": "stream",
          "name": "stdout",
          "text": [
            "Best weight vector for optimum lamda =  [ 0.12680125  0.01947031  0.13547737 -0.03108436  0.6263373   0.052992\n",
            " -0.10063052  0.08023213 -0.13458817 -0.02803836 -0.0563221  -0.10138192\n",
            " -0.0262361   0.06613126 -0.00183205  0.00065672 -0.02246    -0.03263323\n",
            " -0.05975272  0.06745347  0.027235   -0.02959989]\n"
          ]
        }
      ]
    },
    {
      "cell_type": "markdown",
      "source": [
        "**Observations for Part 2 Question 4:**\n",
        "\n",
        "1) For** Learning Rate L = 1**:\n",
        "\n",
        "Training RMSE: [inf inf inf inf inf inf]\n",
        "\n",
        "1/lamda Array:  [1.e-01 1.e+00 1.e+01 1.e+02 1.e+03 1.e+04]\n",
        "\n",
        "Valdation RMSE: [inf inf inf inf inf inf]\n",
        "\n",
        "Clearly learning rate of 1 is not an optimum choice\n",
        "\n",
        "2)For **Learning Rate L = 0.1**:\n",
        "\n",
        "Training RMSE: [8.14217193 0.70561497 0.4854272  0.45295417 0.45186751 0.45185433]\n",
        "\n",
        "1/lamda Array: [1.e-01 1.e+00 1.e+01 1.e+02 1.e+03 1.e+04]\n",
        "\n",
        "Valdation RMSE: [9.40565994 0.84644062 0.5308134  0.48420429 0.48719127 0.4876578 ](Min. validation MSE occurs at: **lamda = 0.01**)\n",
        "\n",
        "3)For **Learning Rate L = 0.01**: \n",
        "\n",
        "Training RMSE:[0.98130594 0.72470278 0.48844081 0.46700743 0.46721147 0.46728953]\n",
        "\n",
        "1/lamda Array: [1.e-01 1.e+00 1.e+01 1.e+02 1.e+03 1.e+04] \n",
        "\n",
        "Valdation RMSE: [1.29992238 1.0202405  0.48901306 0.45705873 0.45877743 0.45902394] (Min. validation MSE occurs at: **lamda =0.01**)\n",
        "\n",
        "Therefore, the minimum validation RMSE occurs at lamda = 0.01. Learning Rate of 0.1 and 0.01 have approximately same validation RMSE for lamda = 0.1. Since Learning rate of 0.1 needs lesser number of iterations to converge than learning rate of 0.01 , learning rate of 0.1 will be optimum.\n",
        "\n"
      ],
      "metadata": {
        "id": "TnPsIbldHcUu"
      }
    },
    {
      "cell_type": "markdown",
      "source": [
        "**Part 2 Question 5 Starts \"best lamda for the pseudo-inv method\"**"
      ],
      "metadata": {
        "id": "maey9Brjkz6Q"
      }
    },
    {
      "cell_type": "code",
      "source": [
        "'''\n",
        "Initialization of different arrays and variables for TASK 3,4 and 5\n",
        "'''\n",
        "lamda = 10 #Assume initial lamda parameter\n",
        "numLamdaVals = 6  #define the number of lamda values you are going to test\n",
        "lamdaArray = np.zeros(numLamdaVals)  #An array to store the different lamda values\n",
        "trainingRMSE = np.zeros(numLamdaVals)  #size of training MSE array = number of lamda values\n",
        "validationRMSE = np.zeros(numLamdaVals)  #An array to store validation MSE "
      ],
      "metadata": {
        "id": "oUWBgb-HlJ5g"
      },
      "execution_count": 98,
      "outputs": []
    },
    {
      "cell_type": "code",
      "source": [
        "'''\n",
        "Training the model using gradient descent for each lamda\n",
        "'''\n",
        "for lCount in range(0,numLamdaVals):  #This for loop is to train model for each lamda value\n",
        "  w = Pseudo_Inverse (x_train, t_train, lamda)  #Find the pseudo inverse to get w vector\n",
        "  lamdaArray[lCount] = lamda  #lamda array stores the lamda value\n",
        "  trainingRMSE[lCount] = np.sqrt(MSE_Loss(x_train, t_train, w, lamda))  #for each lamda find training MSE\n",
        "  validationRMSE[lCount] = np.sqrt(MSE_Loss(x_val,t_val,w,lamda)) #for each lamda find validation MSE\n",
        "  lamda = lamda/10  # Update lamda by dividing it by a factor of 10"
      ],
      "metadata": {
        "id": "bJwQa-kcl148"
      },
      "execution_count": 99,
      "outputs": []
    },
    {
      "cell_type": "code",
      "source": [
        "'''\n",
        "Finding minimum training RMSE and corresponding index in trainingRMSE array\n",
        "'''\n",
        "minTrainRMSE = min(trainingRMSE)  #Find out the minimum training MSE\n",
        "print('Min. Training RMSE =',minTrainRMSE)  #Print the minimum training MSE\n",
        "for i in range(0,numLamdaVals): #This for loop finds the array index corresponding to minimum Training MSE\n",
        "  if(trainingRMSE[i] == minTrainRMSE):\n",
        "    minTrainMSEindex = i    \n",
        "    break"
      ],
      "metadata": {
        "colab": {
          "base_uri": "https://localhost:8080/"
        },
        "id": "BkMhjKShm1Ow",
        "outputId": "d6ceb045-c4f4-41a6-d6e1-a27bb0fbd803"
      },
      "execution_count": 100,
      "outputs": [
        {
          "output_type": "stream",
          "name": "stdout",
          "text": [
            "Min. Training RMSE = 0.45185313890878837\n"
          ]
        }
      ]
    },
    {
      "cell_type": "code",
      "source": [
        "'''\n",
        "Plotting Training RMSE vs log10(1/lamda)\n",
        "''' \n",
        "print('Training RMSE:',trainingRMSE)\n",
        "print('1/lamda Array: ',1./lamdaArray)\n",
        "plt.figure()\n",
        "plt.title('Training RMSE Vs log10(1/lamda) plot')\n",
        "plt.xlabel('log10(1/lamda axis)')\n",
        "plt.ylabel('Training RMSE')\n",
        "#Since consecutive lamda values vary by large gaps we have plotted them on log scale on x axis\n",
        "plt.plot(np.log10(1./lamdaArray),trainingRMSE,color='green', linestyle='-', linewidth = 3,marker='o', markerfacecolor='blue', markersize=6)\n",
        "plt.show()"
      ],
      "metadata": {
        "colab": {
          "base_uri": "https://localhost:8080/",
          "height": 330
        },
        "outputId": "54ab8121-1ecc-4028-b4ab-941772e7275a",
        "id": "MViDmQqWnWNe"
      },
      "execution_count": 101,
      "outputs": [
        {
          "output_type": "stream",
          "name": "stdout",
          "text": [
            "Training RMSE: [0.45187014 0.45185332 0.45185314 0.45185314 0.45185314 0.45185314]\n",
            "1/lamda Array:  [1.e-01 1.e+00 1.e+01 1.e+02 1.e+03 1.e+04]\n"
          ]
        },
        {
          "output_type": "display_data",
          "data": {
            "image/png": "[encoded data removed]",
            "text/plain": [
              "<Figure size 432x288 with 1 Axes>"
            ]
          },
          "metadata": {
            "needs_background": "light"
          }
        }
      ]
    },
    {
      "cell_type": "code",
      "source": [
        "'''\n",
        "Finding minimum validation MSE and corresponding index in validationMSE array\n",
        "'''\n",
        "minValidationRMSE = min(validationRMSE)   #Find out the minimum validation MSE\n",
        "for i in range(0,numLamdaVals): #\n",
        "  if(validationRMSE[i] == minValidationRMSE):\n",
        "    minValidationMSEindex = i    \n",
        "    break\n",
        "optimumLamda = lamdaArray[minValidationMSEindex] #Optimum Lamda corresponds to lamda value at mimimum Validation MSE Index"
      ],
      "metadata": {
        "id": "ksgZLX5OngUU"
      },
      "execution_count": 102,
      "outputs": []
    },
    {
      "cell_type": "code",
      "source": [
        "'''\n",
        "Plotting Validation RMSE vs 1/lamda\n",
        "'''\n",
        "print('Valdation RMSE:',validationRMSE)\n",
        "print('1/lamda Array: ',1./lamdaArray)\n",
        "print('Best lamda which gives min. Validation RMSE = ',optimumLamda)\n",
        "print('Validation RMSE for best lamda = ',validationRMSE[minValidationMSEindex]) # Validation MSE corresponding to best lamda\n",
        "print('Validation NRMSE for best lamda = ',validationRMSE[minValidationMSEindex]/np.std(t_val))  # Validation NMSE corresponding to best lamda\n",
        "plt.figure()\n",
        "plt.title('Validation RMSE Vs log10(1/lamda) plot')\n",
        "plt.xlabel('1/lamda axis (in log10)')\n",
        "plt.ylabel('Validation RMSE')\n",
        "#Since consecutive lamda values vary by large gaps we have plotted them on log scale on x axis\n",
        "plt.plot(np.log10(1./lamdaArray),validationRMSE,color='red', linestyle='-', linewidth = 3,marker='o', markerfacecolor='red', markersize=6)\n",
        "plt.show()"
      ],
      "metadata": {
        "colab": {
          "base_uri": "https://localhost:8080/",
          "height": 382
        },
        "outputId": "d3abccc8-298f-4ad5-d713-d98fb1e8788c",
        "id": "1TLcwT-anqgs"
      },
      "execution_count": 103,
      "outputs": [
        {
          "output_type": "stream",
          "name": "stdout",
          "text": [
            "Valdation RMSE: [0.4870014  0.48775813 0.4878367  0.48784459 0.48784538 0.48784546]\n",
            "1/lamda Array:  [1.e-01 1.e+00 1.e+01 1.e+02 1.e+03 1.e+04]\n",
            "Best lamda which gives min. Validation RMSE =  10.0\n",
            "Validation RMSE for best lamda =  0.4870014034737439\n",
            "Validation NRMSE for best lamda =  0.39463322611367935\n"
          ]
        },
        {
          "output_type": "display_data",
          "data": {
            "image/png": "[encoded data removed]",
            "text/plain": [
              "<Figure size 432x288 with 1 Axes>"
            ]
          },
          "metadata": {
            "needs_background": "light"
          }
        }
      ]
    },
    {
      "cell_type": "markdown",
      "source": [
        "**Observations for Part 2 Question 5:**\n",
        "Valdation RMSE: [0.4870014  0.48775813 0.4878367  0.48784459 0.48784538 0.48784546]\n",
        "\n",
        "1/lamda Array:  [1.e-01 1.e+00 1.e+01 1.e+02 1.e+03 1.e+04]\n",
        "\n",
        "Best lamda which gives min. Validation RMSE =  10.0\n",
        "\n",
        "Therefore, the minimum validation RMSE occurs at lamda = 10. This method is not computationally efficient and hence generally not used for gradient descent. In this method as we decrease lamda we get a very small increase in RMSE.\n",
        "\n",
        "**Conclusion:**\n",
        "The best lamda = 0.1 it gives the minimum validation RMSE in case of **MSE+L2_loss(w)** model. We will use this model to predict the output from our test data.\n"
      ],
      "metadata": {
        "id": "pss7qauyrz8m"
      }
    },
    {
      "cell_type": "markdown",
      "source": [
        "**Part 2 Question 6 \"Running the gradient descent on test.csv\"**"
      ],
      "metadata": {
        "id": "c_5aJkf1xOoL"
      }
    },
    {
      "cell_type": "code",
      "source": [
        "'''\n",
        "Optimum Learning rate, lamda which give min validation NMSE for the L2_loss, L1_loss are used to predict the putput for test data\n",
        "Minimum validation RMSE is obtained for gradient descent using L2 Loss function \n",
        "for optimum learning rate = 0.1 and lamda = 0.1\n",
        "'''\n",
        "\n",
        "'''\n",
        "NOTE: After training, our learning algorithm has learnt to deal with the data in scaled form, so we have to normalize our test data with the \n",
        "normalizing parameters used for training data.\n",
        "Source: https://datascience.stackexchange.com/questions/27615/should-we-apply-normalization-to-test-data-as-well#:~:text=Yes%20you%20need%20to%20apply,is%20part%20of%20the%20representation.\n",
        "Both answers given on this link answer this. And this method gives very accurate results.\n",
        "'''\n",
        "x = pd.read_csv('https://www.ee.iitb.ac.in/~asethi/Dump/TempTest.csv')  #Read the test data from given link\n",
        "x = (x-inputTrainingMean)/inputTrainingSd #Normalize the test data using training mean and std dev\n",
        "#h_theta is the predicted output by our model\n",
        "h_theta = Prediction (x, wTest) #Predict the output using wTest from MSE + L2_loss function as it gives minimum RMSE error\n",
        "h_theta = h_theta*targetTrainingSd + targetTrainingMean #targetTrainingSd and targetTrainingMean were defined initially when we read training data from TempTrain.csv\n",
        "#To remove normalization from the estimated vector h_theta by multiplying the training target standard deviation and adding target training mean to predicted result\n",
        "print(h_theta)  \n",
        "df = pd.DataFrame(h_theta)  #Convert the array into a pandas data frame in order to write it as a .csv file\n",
        "#df.to_csv('213070003_213070014_1.csv',header=['Next_Tmax'], index=False)"
      ],
      "metadata": {
        "colab": {
          "base_uri": "https://localhost:8080/"
        },
        "id": "t5gC2VguykKc",
        "outputId": "e8a22e94-fa03-46e9-a103-b74eb610432e"
      },
      "execution_count": 104,
      "outputs": [
        {
          "output_type": "stream",
          "name": "stdout",
          "text": [
            "[27.50469838 29.46376179 29.65101026 ... 27.81126658 27.88646396\n",
            " 27.76888317]\n"
          ]
        }
      ]
    },
    {
      "cell_type": "markdown",
      "source": [
        "#**... Part 2 ends.**\n",
        "\n",
        "1. Write the name or roll no.s of friends from outside your group with whom you discussed the assignment here (no penalty for mere discussion without copying code) :  Satyabrata Sahu (Roll no: 213070015) \n",
        "\n",
        "2. Write the links of sources on the internet referred here (no penalty for mere consultation without copying code): \n",
        "\n",
        "https://www.askpython.com/python/examples/split-data-training-and-testing-set\n",
        "\n",
        "https://machinelearningmastery.com/how-to-improve-neural-network-stability-and-modeling-performance-with-data-scaling/\n",
        "\n",
        "https://stats.stackexchange.com/questions/111467/is-it-necessary-to-scale-the-target-value-in-addition-to-scaling-features-for-re#:~:text=Yes%2C%20you%20do%20need%20to%20scale%20the%20target%20variable.\n",
        "\n",
        "Need to normalize the test data explained here:\n",
        "https://datascience.stackexchange.com/questions/27615/should-we-apply-normalization-to-test-data-as-well#:~:text=Yes%20you%20need%20to%20apply,is%20part%20of%20the%20representation."
      ],
      "metadata": {
        "id": "X5xoNrdBYCGc"
      }
    }
  ],
  "metadata": {
    "kernelspec": {
      "display_name": "Python 3",
      "language": "python",
      "name": "python3"
    },
    "language_info": {
      "codemirror_mode": {
        "name": "ipython",
        "version": 3
      },
      "file_extension": ".py",
      "mimetype": "text/x-python",
      "name": "python",
      "nbconvert_exporter": "python",
      "pygments_lexer": "ipython3",
      "version": "3.8.3"
    },
    "colab": {
      "name": "213070003_213070014_1.ipynb",
      "provenance": [],
      "collapsed_sections": []
    }
  },
  "nbformat": 4,
  "nbformat_minor": 0
}